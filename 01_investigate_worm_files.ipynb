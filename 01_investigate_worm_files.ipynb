{
 "cells": [
  {
   "cell_type": "code",
   "execution_count": 1,
   "metadata": {},
   "outputs": [],
   "source": [
    "import os\n",
    "import time\n",
    "\n",
    "import h5py\n",
    "import numpy as np\n",
    "\n",
    "import matplotlib.pyplot as plt\n",
    "import IPython.display as disp\n",
    "\n",
    "from dataproc.dataproc import get_worm_data_files, explore_worm_files"
   ]
  },
  {
   "cell_type": "code",
   "execution_count": 2,
   "metadata": {},
   "outputs": [],
   "source": [
    "# Path to the folder containing all the downloaded worm data subfolders with HDF5's.\n",
    "\n",
    "data_path = \"./data_01/data\""
   ]
  },
  {
   "cell_type": "code",
   "execution_count": 3,
   "metadata": {},
   "outputs": [],
   "source": [
    "main_file, feature_file, containing_dir_name = next(get_worm_data_files(data_path))"
   ]
  },
  {
   "cell_type": "code",
   "execution_count": 4,
   "metadata": {},
   "outputs": [],
   "source": [
    "# explore_worm_files(main_file, feature_file, show_frame_count=1)"
   ]
  },
  {
   "cell_type": "code",
   "execution_count": 5,
   "metadata": {},
   "outputs": [],
   "source": [
    "def explore_feature_file(feature_file):\n",
    "    \n",
    "    with h5py.File(feature_file, \"r\") as f:\n",
    "        \n",
    "        for k in f.keys():\n",
    "\n",
    "            print(\"{}:\".format(k))\n",
    "            is_group = isinstance(f[k], h5py.Group)\n",
    "\n",
    "            if is_group:\n",
    "                print(list(f[k].keys()))\n",
    "\n",
    "            else:  # ==> is dataset.\n",
    "                dset = f[k]\n",
    "                print(dset.shape)\n",
    "                print(dset.dtype)\n",
    "                print(\"ATTRS:\\n{}\".format(list(dset.attrs)))\n",
    "\n",
    "            print(\"---\")"
   ]
  },
  {
   "cell_type": "code",
   "execution_count": 6,
   "metadata": {},
   "outputs": [],
   "source": [
    "# explore_feature_file(feature_file)"
   ]
  },
  {
   "cell_type": "code",
   "execution_count": 8,
   "metadata": {},
   "outputs": [
    {
     "data": {
      "image/png": "[encoded data removed]",
      "text/plain": [
       "<Figure size 432x288 with 1 Axes>"
      ]
     },
     "metadata": {},
     "output_type": "display_data"
    },
    {
     "name": "stdout",
     "output_type": "stream",
     "text": [
      "19.0\n"
     ]
    }
   ],
   "source": [
    "with h5py.File(feature_file, \"r\") as f:\n",
    "    \n",
    "    dc = f[\"coordinates\"][\"dorsal_contours\"]\n",
    "    vc = f[\"coordinates\"][\"ventral_contours\"]\n",
    "    sk = f[\"coordinates\"][\"skeletons\"]\n",
    "    \n",
    "    skid = f[\"features_timeseries\"][\"skeleton_id\"]\n",
    "    \n",
    "    print(\"Missing: \", (skid == -1).sum(), \"/\", skid.shape[0])\n",
    "    time.sleep(3)\n",
    "          \n",
    "    for t in range(20):\n",
    "\n",
    "        x_dc = dc[t, :, 0]\n",
    "        y_dc = dc[t, :, 1]\n",
    "        plt.scatter(x_dc, y_dc)\n",
    "\n",
    "        x_vc = vc[t, :, 0]\n",
    "        y_vc = vc[t, :, 1]\n",
    "        plt.scatter(x_vc, y_vc)\n",
    "        \n",
    "        x_sk = sk[t, :, 0]\n",
    "        y_sk = sk[t, :, 1]\n",
    "        plt.scatter(x_sk, y_sk)\n",
    "\n",
    "        ax = plt.gca()\n",
    "        ax.set_aspect(\"equal\")\n",
    "        \n",
    "        disp.display(plt.gcf())\n",
    "        \n",
    "        time.sleep(0.1)\n",
    "        \n",
    "        assert skid.shape[0] == dc.shape[0]\n",
    "        \n",
    "        print(skid[t])\n",
    "        if skid[t] == -1:\n",
    "            print(\"MISSING!\")\n",
    "        \n",
    "        disp.clear_output(wait=True)\n",
    "        plt.close()\n",
    "    "
   ]
  }
 ],
 "metadata": {
  "kernelspec": {
   "display_name": "Python [conda env:py37_msc_data] *",
   "language": "python",
   "name": "conda-env-py37_msc_data-py"
  },
  "language_info": {
   "codemirror_mode": {
    "name": "ipython",
    "version": 3
   },
   "file_extension": ".py",
   "mimetype": "text/x-python",
   "name": "python",
   "nbconvert_exporter": "python",
   "pygments_lexer": "ipython3",
   "version": "3.7.5"
  }
 },
 "nbformat": 4,
 "nbformat_minor": 4
}
